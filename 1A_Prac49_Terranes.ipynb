{
 "cells": [
  {
   "cell_type": "markdown",
   "metadata": {},
   "source": [
    "# Practical 49: Radiometric dating of Precambrian Terranes in the UK"
   ]
  },
  {
   "cell_type": "markdown",
   "metadata": {},
   "source": [
    "1 . [Intro]<br>\n",
    "\n",
    "* A Juypter Notebook for Practical 49: Radiometric dating of Precambrian Terranes in the UK\n",
    "* If this is your first time using jupyter notebooks then under the <i> 'Help'</i> tab there is a <i> 'User Interface Tour'\n",
    "\n",
    "2 . [Importing CSV files](#section_2)\n",
    "    \n",
    "* Import data from a CSV file to a pandas dataframe\n",
    "* Plot the data as a scatter plot\n",
    "    \n",
    "3 . [Ordinary Least Squares - Linear Regression of Rb-Sr Data](#section_3)\n",
    "\n",
    "* Fit a regression line to the data using the ordinary least squares regression method\n",
    "\n",
    "4 . [Histogram of Terran Ages](#section_4)<br>\n",
    "\n",
    "* Plot age data for the British Isle terranes as a histogram"
   ]
  },
  {
   "cell_type": "markdown",
   "metadata": {},
   "source": [
    "<b> Import required python modules <br> </b> Note - working directory needs to be the directory with CSV files present"
   ]
  },
  {
   "cell_type": "code",
   "execution_count": 155,
   "metadata": {},
   "outputs": [],
   "source": [
    "# Note - modules are often abbreviated to condense code\n",
    "\n",
    "# Pandas is a common module for storing data in tabular form https://pandas.pydata.org/about/\n",
    "import pandas as pd\n",
    "\n",
    "# NumPy is a numerical computing module for python - many other modules are built on top of it https://numpy.org/learn/\n",
    "import numpy as np\n",
    "\n",
    "# Matplotlib is one of the most commonly used and flexible plotting modules used in python https://matplotlib.org/\n",
    "import matplotlib.pyplot as plt\n",
    "\n",
    "# Import stats models for the OLS linear regression\n",
    "import statsmodels.api as sm\n",
    "\n",
    "# The OS in Python provides functions for interacting with the operating system\n",
    "import os\n",
    "# if you are unsure which directory is being used use 'os.getcwd()' to display the current working directory\n",
    "# if you need to change the working directory then use the 'os.chdir(path)'"
   ]
  },
  {
   "cell_type": "markdown",
   "metadata": {},
   "source": [
    "### 2 . Importing CSV Files <br> <a id='section_2'></a>"
   ]
  },
  {
   "cell_type": "markdown",
   "metadata": {},
   "source": [
    "Import data from a CSV file into a pandas dataframe"
   ]
  },
  {
   "cell_type": "code",
   "execution_count": 156,
   "metadata": {},
   "outputs": [],
   "source": [
    "Rb_Sr_df = pd.read_csv('1A_Practical_49_Sourie_Sr.csv',index_col='Sample No.')"
   ]
  },
  {
   "cell_type": "markdown",
   "metadata": {},
   "source": [
    "Print the dataframe <br> <i> (Not required but useful for checking import is successful)"
   ]
  },
  {
   "cell_type": "code",
   "execution_count": 157,
   "metadata": {},
   "outputs": [
    {
     "data": {
      "text/html": [
       "<div>\n",
       "<style scoped>\n",
       "    .dataframe tbody tr th:only-of-type {\n",
       "        vertical-align: middle;\n",
       "    }\n",
       "\n",
       "    .dataframe tbody tr th {\n",
       "        vertical-align: top;\n",
       "    }\n",
       "\n",
       "    .dataframe thead th {\n",
       "        text-align: right;\n",
       "    }\n",
       "</style>\n",
       "<table border=\"1\" class=\"dataframe\">\n",
       "  <thead>\n",
       "    <tr style=\"text-align: right;\">\n",
       "      <th></th>\n",
       "      <th>87Rb.86Sr</th>\n",
       "      <th>87Sr.86Sr</th>\n",
       "    </tr>\n",
       "    <tr>\n",
       "      <th>Sample No.</th>\n",
       "      <th></th>\n",
       "      <th></th>\n",
       "    </tr>\n",
       "  </thead>\n",
       "  <tbody>\n",
       "    <tr>\n",
       "      <th>1</th>\n",
       "      <td>0.336</td>\n",
       "      <td>0.71395</td>\n",
       "    </tr>\n",
       "    <tr>\n",
       "      <th>2</th>\n",
       "      <td>0.133</td>\n",
       "      <td>0.70665</td>\n",
       "    </tr>\n",
       "    <tr>\n",
       "      <th>3</th>\n",
       "      <td>0.234</td>\n",
       "      <td>0.71038</td>\n",
       "    </tr>\n",
       "    <tr>\n",
       "      <th>4</th>\n",
       "      <td>0.352</td>\n",
       "      <td>0.71440</td>\n",
       "    </tr>\n",
       "    <tr>\n",
       "      <th>5</th>\n",
       "      <td>0.074</td>\n",
       "      <td>0.70458</td>\n",
       "    </tr>\n",
       "    <tr>\n",
       "      <th>6</th>\n",
       "      <td>0.297</td>\n",
       "      <td>0.71221</td>\n",
       "    </tr>\n",
       "    <tr>\n",
       "      <th>7</th>\n",
       "      <td>0.149</td>\n",
       "      <td>0.70757</td>\n",
       "    </tr>\n",
       "    <tr>\n",
       "      <th>8</th>\n",
       "      <td>0.488</td>\n",
       "      <td>0.71901</td>\n",
       "    </tr>\n",
       "    <tr>\n",
       "      <th>9</th>\n",
       "      <td>0.133</td>\n",
       "      <td>0.70683</td>\n",
       "    </tr>\n",
       "    <tr>\n",
       "      <th>10</th>\n",
       "      <td>0.266</td>\n",
       "      <td>0.71149</td>\n",
       "    </tr>\n",
       "    <tr>\n",
       "      <th>11</th>\n",
       "      <td>0.114</td>\n",
       "      <td>0.70594</td>\n",
       "    </tr>\n",
       "    <tr>\n",
       "      <th>12</th>\n",
       "      <td>0.429</td>\n",
       "      <td>0.71717</td>\n",
       "    </tr>\n",
       "  </tbody>\n",
       "</table>\n",
       "</div>"
      ],
      "text/plain": [
       "            87Rb.86Sr  87Sr.86Sr\n",
       "Sample No.                      \n",
       "1               0.336    0.71395\n",
       "2               0.133    0.70665\n",
       "3               0.234    0.71038\n",
       "4               0.352    0.71440\n",
       "5               0.074    0.70458\n",
       "6               0.297    0.71221\n",
       "7               0.149    0.70757\n",
       "8               0.488    0.71901\n",
       "9               0.133    0.70683\n",
       "10              0.266    0.71149\n",
       "11              0.114    0.70594\n",
       "12              0.429    0.71717"
      ]
     },
     "execution_count": 157,
     "metadata": {},
     "output_type": "execute_result"
    }
   ],
   "source": [
    "Rb_Sr_df"
   ]
  },
  {
   "cell_type": "markdown",
   "metadata": {},
   "source": [
    "Plot the data as scatter plot"
   ]
  },
  {
   "cell_type": "code",
   "execution_count": 158,
   "metadata": {},
   "outputs": [
    {
     "data": {
      "image/png": "[encoded data removed]",
      "text/plain": [
       "<Figure size 432x288 with 1 Axes>"
      ]
     },
     "metadata": {
      "needs_background": "light"
     },
     "output_type": "display_data"
    }
   ],
   "source": [
    "# Define x and y data - Dataframe['Column Name']\n",
    "x = Rb_Sr_df['87Rb.86Sr']\n",
    "y = Rb_Sr_df['87Sr.86Sr']\n",
    "xerr = Rb_Sr_df['87Rb.86Sr']*0.02\n",
    "yerr = 8e-5\n",
    "\n",
    "# Plot the scatter plot (with uncertainty)\n",
    "plt.errorbar(x,y, yerr=yerr, xerr=xerr, fmt = 'o', capsize=1)\n",
    "plt.title(\"Rb-Sr Age Determination Scatter Plot\")\n",
    "plt.xlabel(\"87Rb/86Sr\")\n",
    "plt.ylabel(\"87Sr/86Sr\")\n",
    "plt.show()"
   ]
  },
  {
   "cell_type": "markdown",
   "metadata": {},
   "source": [
    "<a id='section_id'></a>"
   ]
  },
  {
   "cell_type": "markdown",
   "metadata": {},
   "source": [
    "### 3 . Ordinary Least Squares - Linear Regression of Rb-Sr Data <br> <a id='section_3'></a>"
   ]
  },
  {
   "cell_type": "markdown",
   "metadata": {},
   "source": [
    "OLS Plot"
   ]
  },
  {
   "cell_type": "code",
   "execution_count": 160,
   "metadata": {},
   "outputs": [
    {
     "data": {
      "image/png": "[encoded data removed]",
      "text/plain": [
       "<Figure size 432x288 with 1 Axes>"
      ]
     },
     "metadata": {
      "needs_background": "light"
     },
     "output_type": "display_data"
    }
   ],
   "source": [
    "# Use the numpy least squares polynomial fit to obtain m and c for equation y = mx+c\n",
    "m, c = np.polyfit(x, y, 1)\n",
    "\n",
    "# Plot scatter plot of data points\n",
    "plt.errorbar(x,y, yerr=yerr, xerr=xerr, fmt = 'o', capsize=1)\n",
    "\n",
    "# Plot linear regression model through data points\n",
    "plt.plot(x, m*x + c, c = 'r')\n",
    "plt.title(\"Rb-Sr Age Determination OLS Plot\")\n",
    "plt.xlabel(\"87Rb/86Sr\")\n",
    "plt.ylabel(\"87Sr/86Sr\")\n",
    "plt.show()"
   ]
  },
  {
   "cell_type": "markdown",
   "metadata": {},
   "source": [
    "OLS Regression Results (extra) <br> <i> (useful to see a breakdown of the ordinary least square linear regression stats)"
   ]
  },
  {
   "cell_type": "code",
   "execution_count": 161,
   "metadata": {},
   "outputs": [
    {
     "name": "stdout",
     "output_type": "stream",
     "text": [
      "                                 OLS Regression Results                                \n",
      "=======================================================================================\n",
      "Dep. Variable:              87Sr.86Sr   R-squared (uncentered):                   0.798\n",
      "Model:                            OLS   Adj. R-squared (uncentered):              0.780\n",
      "Method:                 Least Squares   F-statistic:                              43.51\n",
      "Date:                Wed, 28 Apr 2021   Prob (F-statistic):                    3.88e-05\n",
      "Time:                        19:16:58   Log-Likelihood:                         -3.3289\n",
      "No. Observations:                  12   AIC:                                      8.658\n",
      "Df Residuals:                      11   BIC:                                      9.143\n",
      "Df Model:                           1                                                  \n",
      "Covariance Type:            nonrobust                                                  \n",
      "==============================================================================\n",
      "                 coef    std err          t      P>|t|      [0.025      0.975]\n",
      "------------------------------------------------------------------------------\n",
      "87Rb.86Sr      2.2587      0.342      6.596      0.000       1.505       3.012\n",
      "==============================================================================\n",
      "Omnibus:                        1.109   Durbin-Watson:                   2.406\n",
      "Prob(Omnibus):                  0.574   Jarque-Bera (JB):                0.815\n",
      "Skew:                          -0.342   Prob(JB):                        0.665\n",
      "Kurtosis:                       1.922   Cond. No.                         1.00\n",
      "==============================================================================\n",
      "\n",
      "Notes:\n",
      "[1] R² is computed without centering (uncentered) since the model does not contain a constant.\n",
      "[2] Standard Errors assume that the covariance matrix of the errors is correctly specified.\n"
     ]
    },
    {
     "name": "stderr",
     "output_type": "stream",
     "text": [
      "/home/acgk2/anaconda3/lib/python3.8/site-packages/scipy/stats/stats.py:1603: UserWarning: kurtosistest only valid for n>=20 ... continuing anyway, n=12\n",
      "  warnings.warn(\"kurtosistest only valid for n>=20 ... continuing \"\n"
     ]
    }
   ],
   "source": [
    "model = sm.OLS(y, x)\n",
    "sm.add_constant(c)\n",
    "results = model.fit()\n",
    "print(results.summary())"
   ]
  },
  {
   "cell_type": "markdown",
   "metadata": {},
   "source": [
    "<b> Age Calculation </b> <br>"
   ]
  },
  {
   "cell_type": "code",
   "execution_count": 228,
   "metadata": {},
   "outputs": [
    {
     "name": "stdout",
     "output_type": "stream",
     "text": [
      "Scourie Dykes Age - 2415.398434673979 Ma\n"
     ]
    }
   ],
   "source": [
    "# Calculate age in years\n",
    "Age_years =np.log(m+1)/1.42e-11\n",
    "\n",
    "# Convert age to million of years (Ma)\n",
    "Age_Ma = Age_years/1e6\n",
    "\n",
    "# Print result\n",
    "print(\"Scourie Dykes Age - {} Ma\".format(Age_Ma))"
   ]
  },
  {
   "cell_type": "markdown",
   "metadata": {},
   "source": [
    "### 4 . Histogram of Terran Ages <br> <a id='section_4'></a>"
   ]
  },
  {
   "cell_type": "markdown",
   "metadata": {},
   "source": [
    "Import CSV data into a pandas dataframe"
   ]
  },
  {
   "cell_type": "code",
   "execution_count": 229,
   "metadata": {},
   "outputs": [],
   "source": [
    "Age_Pattern_df = pd.read_csv('U-pb_revised_data_compilation.csv', engine='python', index_col='Terrane')"
   ]
  },
  {
   "cell_type": "markdown",
   "metadata": {},
   "source": [
    "Slice dataframe into terranes from Gondwana & Laurentia"
   ]
  },
  {
   "cell_type": "code",
   "execution_count": 230,
   "metadata": {},
   "outputs": [],
   "source": [
    "Laurentia = Age_Pattern_df[Age_Pattern_df[\"Terrane.1\"].isin(['Laurentia Hebridean', 'Laurentia'])]\n",
    "Gondwana = Age_Pattern_df[Age_Pattern_df[\"Terrane.1\"].isin(['Gondwana N. Amorica', 'Gondwana'])]"
   ]
  },
  {
   "cell_type": "markdown",
   "metadata": {},
   "source": [
    "Plot age data as a histogram"
   ]
  },
  {
   "cell_type": "code",
   "execution_count": 231,
   "metadata": {},
   "outputs": [
    {
     "data": {
      "image/png": "[encoded data removed]",
      "text/plain": [
       "<Figure size 432x288 with 1 Axes>"
      ]
     },
     "metadata": {
      "needs_background": "light"
     },
     "output_type": "display_data"
    }
   ],
   "source": [
    "# Define x axis data for histogram\n",
    "x_hist_L = Laurentia['Age']\n",
    "x_hist_G = Gondwana['Age']\n",
    "\n",
    "# Create list of bins\n",
    "bins_list = np.arange(500,3300,100)\n",
    "\n",
    "# Plot histogram\n",
    "plt.hist(x_hist_L, bins_list, label = 'Laurentia')\n",
    "plt.hist(x_hist_G, bins_list, label = 'Gondwana')\n",
    "\n",
    "plt.title(\"Terrane Ages\")\n",
    "plt.xlabel(\"Age (Ma)\")\n",
    "plt.ylabel(\"Count\")\n",
    "plt.legend()\n",
    "plt.show()"
   ]
  },
  {
   "cell_type": "code",
   "execution_count": null,
   "metadata": {},
   "outputs": [],
   "source": []
  }
 ],
 "metadata": {
  "kernelspec": {
   "display_name": "Python 3",
   "language": "python",
   "name": "python3"
  },
  "language_info": {
   "codemirror_mode": {
    "name": "ipython",
    "version": 3
   },
   "file_extension": ".py",
   "mimetype": "text/x-python",
   "name": "python",
   "nbconvert_exporter": "python",
   "pygments_lexer": "ipython3",
   "version": "3.8.5"
  }
 },
 "nbformat": 4,
 "nbformat_minor": 4
}
